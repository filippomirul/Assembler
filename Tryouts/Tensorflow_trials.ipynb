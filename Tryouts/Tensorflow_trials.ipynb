{
 "cells": [
  {
   "cell_type": "code",
   "execution_count": 2,
   "metadata": {},
   "outputs": [],
   "source": [
    "import tensorflow as tf\n",
    "from icecream import ic\n",
    "from threading import Thread\n",
    "import numpy as np\n",
    "from Bio import pairwise2\n",
    "import time"
   ]
  },
  {
   "cell_type": "markdown",
   "metadata": {},
   "source": [
    "Here I am tring to make two tensors shift to make the alignment. I need max(len) - 1 iteration which can be converted in n/2, because I can shift both extremities. However the issue now is that the two tensor are not the same iteration.\n",
    "\n",
    "I want as results a tensor long as the number of total possiple comparison between the two sequences. The value will be representative as the sum of the differences between the two tensors, which are number converted from the bases. Choosing the minimum sun is as choosing the best allignment. Here rise the proble that different bases relate different numbe and therefore different penalties when mismach are found. In contranst is possible, but risky saing that since long reads will be preferably used, this consequence will be dumpened from the length of the reads.\n",
    "\n",
    "Ireally need to keep all of them in a tensor or maybe I only need the min value and the index of it???"
   ]
  },
  {
   "cell_type": "code",
   "execution_count": 79,
   "metadata": {},
   "outputs": [
    {
     "name": "stderr",
     "output_type": "stream",
     "text": [
      "ic| num_iterations: 6.0\n",
      "ic| int_num_iteration: 6\n",
      "ic| alone: False\n"
     ]
    },
    {
     "name": "stdout",
     "output_type": "stream",
     "text": [
      "Max lenght of the two tensors : 10, the min: 3\n",
      "Tensor one in his completness: [65 84 67 65 84 65 84 71 67 65]\n",
      "Tensor two in his completness: [65 84 67]\n",
      "\n",
      "Iteration : 0\n",
      "Tensor one : [65]\n",
      "Tensor two : [67]\n",
      "The opposite frame work\n",
      "Tensor one : [65]\n",
      "Tensor two : [65]\n",
      "\n",
      "Iteration : 1\n",
      "Tensor one : [65 84]\n",
      "Tensor two : [84 67]\n",
      "The opposite frame work\n",
      "Tensor one : [67 65]\n",
      "Tensor two : [65 84]\n",
      "\n",
      "Iteration : 2\n",
      "Tensor one : [65 84 67]\n",
      "Tensor two : [65 84 67]\n",
      "The opposite frame work\n",
      "Tensor one : [71 67 65]\n",
      "Tensor two : [65 84 67]\n",
      "\n",
      "Iteration : 3\n",
      "Tensor one : [84 67 65]\n",
      "Tensor two : [65 84 67]\n",
      "The opposite frame work\n",
      "Tensor one : [84 71 67]\n",
      "Tensor two : [65 84 67]\n",
      "\n",
      "Iteration : 4\n",
      "Tensor one : [67 65 84]\n",
      "Tensor two : [65 84 67]\n",
      "The opposite frame work\n",
      "Tensor one : [65 84 71]\n",
      "Tensor two : [65 84 67]\n",
      "\n",
      "Iteration : 5\n",
      "Tensor one : [65 84 65]\n",
      "Tensor two : [65 84 67]\n",
      "The opposite frame work\n",
      "Tensor one : [84 65 84]\n",
      "Tensor two : [65 84 67]\n",
      "\n"
     ]
    }
   ],
   "source": [
    "seq1 = \"ATCATATGCA\"\n",
    "seq2 = \"ATC\"\n",
    "\n",
    "tf1 = tf.constant([ord(c) for c in seq1])\n",
    "tf2 = tf.constant([ord(c) for c in seq2])\n",
    "\n",
    "min_shift_tensor = min(tf1.shape[0], tf2.shape[0])\n",
    "max_shape_tensor = max(tf1.shape[0], tf2.shape[0])\n",
    "num_iterations = (max_shape_tensor + min_shift_tensor - 1) / 2\n",
    "int_num_iteration = (max_shape_tensor + min_shift_tensor - 1) // 2\n",
    "\n",
    "ic(num_iterations)\n",
    "ic(int_num_iteration)\n",
    "\n",
    "alone = False # This is for the 4.5 iteration\n",
    "\n",
    "if int_num_iteration < num_iterations:\n",
    "    alone = True\n",
    "\n",
    "print(f\"Max lenght of the two tensors : {max_shape_tensor}, the min: {min_shift_tensor}\")\n",
    "print(f\"Tensor one in his completness: {tf1}\")\n",
    "print(f\"Tensor two in his completness: {tf2}\\n\")\n",
    "ic(alone)\n",
    "\n",
    "for i in range(int_num_iteration):\n",
    "    if i < min_shift_tensor:\n",
    "        print(f\"Iteration : {i}\")\n",
    "        print(f\"Tensor one : {tf1[:(i+1)]}\")\n",
    "        print(f\"Tensor two : {tf2[-(i+1):]}\\nThe opposite frame work\")\n",
    "        print(f\"Tensor one : {tf1[-(i+1):]}\")\n",
    "        print(f\"Tensor two : {tf2[:(i+1)]}\\n\")\n",
    "    if i >= min_shift_tensor:\n",
    "        print(f\"Iteration : {i}\")\n",
    "        print(f\"Tensor one : {tf1[i-min_shift_tensor+1:(i+1)]}\")\n",
    "        print(f\"Tensor two : {tf2[-(i+1):]}\\nThe opposite frame work\")\n",
    "        print(f\"Tensor one : {tf1[-(i+1):-(i-min_shift_tensor+1)]}\")\n",
    "        print(f\"Tensor two : {tf2[:(i+1)]}\\n\")\n",
    "    if (i == int_num_iteration-1) and alone:\n",
    "        i += 1\n",
    "        print(\"Extra single iteration\")\n",
    "        print(f\"Iteration : {i}\")\n",
    "        print(f\"Tensor one : {tf1[i-min_shift_tensor+1:(i+1)]}\")\n",
    "        print(f\"Tensor two : {tf2[-(i+1):]}\")"
   ]
  },
  {
   "cell_type": "code",
   "execution_count": 31,
   "metadata": {},
   "outputs": [
    {
     "name": "stderr",
     "output_type": "stream",
     "text": [
      "ic| f.shape: (3,)\n"
     ]
    },
    {
     "name": "stderr",
     "output_type": "stream",
     "text": [
      "ic| split_1: ['ATCCATGCT', 'AGCTAGGAGATCGA', 'CTAGGATGCATAGG']\n",
      "ic| split_2: ['TGCATAGGACATAGCTAGGAGATCGAGATCACCAGA',\n",
      "              'ATGCATAGGACAT',\n",
      "              'TATATGCGCTAG',\n",
      "              'AGATATATATGCGC']\n"
     ]
    }
   ],
   "source": [
    "f = np.array([1,2,3])\n",
    "ic(f.shape)\n",
    "\n",
    "\n",
    "reads = [\"ATCCATGCT\", \"AGCTAGGAGATCGA\", \"CTAGGATGCATAGG\", \"TGCATAGGACATAGCTAGGAGATCGAGATCACCAGA\", \"ATGCATAGGACAT\", \"TATATGCGCTAG\", \"AGATATATATGCGC\"]\n",
    "ncpus = 2\n",
    "split_1 = reads[:len(reads)//2]\n",
    "split_2 = reads[len(reads)//2:]\n",
    "\n",
    "ic(split_1)\n",
    "ic(split_2)\n",
    "\n",
    "tf_split_1 = tf.ragged.constant([[ord(c) for c in read] for read in split_1])\n",
    "tf_split_2 = tf.ragged.constant([[ord(c) for c in read] for read in split_2])\n",
    "\n",
    "# t = Thread(target=,args=)"
   ]
  }
 ],
 "metadata": {
  "kernelspec": {
   "display_name": "Python 3",
   "language": "python",
   "name": "python3"
  },
  "language_info": {
   "codemirror_mode": {
    "name": "ipython",
    "version": 3
   },
   "file_extension": ".py",
   "mimetype": "text/x-python",
   "name": "python",
   "nbconvert_exporter": "python",
   "pygments_lexer": "ipython3",
   "version": "3.11.8"
  }
 },
 "nbformat": 4,
 "nbformat_minor": 2
}
