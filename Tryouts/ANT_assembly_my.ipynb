{
 "cells": [
  {
   "cell_type": "markdown",
   "metadata": {},
   "source": [
    "- Recombine the final sequece and croos over between the weak links -> needed a custum function, maybe full deterministic\n",
    "- Stats and dataframe for the SNP and other variants\n",
    "- Implement gaps NNNNN"
   ]
  },
  {
   "cell_type": "code",
   "execution_count": 22,
   "metadata": {},
   "outputs": [
    {
     "ename": "TypeError",
     "evalue": "'float' object cannot be interpreted as an integer",
     "output_type": "error",
     "traceback": [
      "\u001b[1;31m---------------------------------------------------------------------------\u001b[0m",
      "\u001b[1;31mTypeError\u001b[0m                                 Traceback (most recent call last)",
      "Cell \u001b[1;32mIn[22], line 15\u001b[0m\n\u001b[0;32m     12\u001b[0m read_tf_1\u001b[38;5;241m.\u001b[39mget_shape()[\u001b[38;5;241m0\u001b[39m]\n\u001b[0;32m     13\u001b[0m \u001b[38;5;66;03m# read_tf = tf.strings.unicode_encode(read_tf, \"UTF-8\")\u001b[39;00m\n\u001b[1;32m---> 15\u001b[0m \u001b[38;5;28;01mfor\u001b[39;00m i \u001b[38;5;129;01min\u001b[39;00m \u001b[38;5;28;43mrange\u001b[39;49m\u001b[43m(\u001b[49m\u001b[43mread_tf_1\u001b[49m\u001b[38;5;241;43m.\u001b[39;49m\u001b[43mget_shape\u001b[49m\u001b[43m(\u001b[49m\u001b[43m)\u001b[49m\u001b[43m[\u001b[49m\u001b[38;5;241;43m0\u001b[39;49m\u001b[43m]\u001b[49m\u001b[38;5;241;43m/\u001b[39;49m\u001b[38;5;241;43m4\u001b[39;49m\u001b[43m)\u001b[49m:\n\u001b[0;32m     16\u001b[0m     \u001b[38;5;28mprint\u001b[39m(i)\n",
      "\u001b[1;31mTypeError\u001b[0m: 'float' object cannot be interpreted as an integer"
     ]
    }
   ],
   "source": [
    "# Implementation using tensors\n",
    "import tensorflow as tf\n",
    "\n",
    "\n",
    "read_1 = \"ATTTAggggTA\"\n",
    "read_1 = read_1.upper()\n",
    "\n",
    "read_2 = \"ATTCGGATCGA\"\n",
    "read_2 = read_2.upper()\n",
    "\n",
    "read_tf_2 = tf.constant([ord(c) for c in read_2])\n",
    "read_tf_1 = tf.constant([ord(c) for c in read_1])\n",
    "read_tf_1.get_shape()[0]\n",
    "# read_tf = tf.strings.unicode_encode(read_tf, \"UTF-8\")\n",
    "\n",
    "for i in range(read_tf_1.get_shape()[0]):\n",
    "    print(i)"
   ]
  },
  {
   "cell_type": "markdown",
   "metadata": {},
   "source": [
    "### Here trying parallelization with Numba e prange"
   ]
  },
  {
   "cell_type": "markdown",
   "metadata": {},
   "source": [
    "### Changing the final reconstruction function\n",
    "- return matrix\n",
    "- paralleize the coding/decoding in number\n",
    "- make a separe function for the consensus\n",
    "- probably is better to make lower the memory usage, since the consensus matrix will be in the same order of the length"
   ]
  },
  {
   "cell_type": "markdown",
   "metadata": {},
   "source": [
    "### Graph embeddings"
   ]
  },
  {
   "cell_type": "code",
   "execution_count": 21,
   "metadata": {},
   "outputs": [
    {
     "ename": "NameError",
     "evalue": "name 'dist_mat' is not defined",
     "output_type": "error",
     "traceback": [
      "\u001b[1;31m---------------------------------------------------------------------------\u001b[0m",
      "\u001b[1;31mNameError\u001b[0m                                 Traceback (most recent call last)",
      "Cell \u001b[1;32mIn[21], line 65\u001b[0m\n\u001b[0;32m     61\u001b[0m matrix \u001b[38;5;241m=\u001b[39m loadmat(\u001b[38;5;124m\"\u001b[39m\u001b[38;5;124mC:\u001b[39m\u001b[38;5;130;01m\\\\\u001b[39;00m\u001b[38;5;124mUsers\u001b[39m\u001b[38;5;130;01m\\\\\u001b[39;00m\u001b[38;5;124mfiloa\u001b[39m\u001b[38;5;130;01m\\\\\u001b[39;00m\u001b[38;5;124mDesktop\u001b[39m\u001b[38;5;130;01m\\\\\u001b[39;00m\u001b[38;5;124mProgramming_trials\u001b[39m\u001b[38;5;130;01m\\\\\u001b[39;00m\u001b[38;5;124mAssembler\u001b[39m\u001b[38;5;130;01m\\\\\u001b[39;00m\u001b[38;5;124mMain\u001b[39m\u001b[38;5;130;01m\\\\\u001b[39;00m\u001b[38;5;124mData\u001b[39m\u001b[38;5;130;01m\\\\\u001b[39;00m\u001b[38;5;124mgraph_metadata.mat\u001b[39m\u001b[38;5;124m\"\u001b[39m)[\u001b[38;5;124m\"\u001b[39m\u001b[38;5;124mdata\u001b[39m\u001b[38;5;124m\"\u001b[39m]\n\u001b[0;32m     63\u001b[0m \u001b[38;5;66;03m# print(dist_mat)\u001b[39;00m\n\u001b[1;32m---> 65\u001b[0m cl \u001b[38;5;241m=\u001b[39m AgglomerativeClustering(compute_distances\u001b[38;5;241m=\u001b[39m\u001b[38;5;28;01mTrue\u001b[39;00m, distance_threshold \u001b[38;5;241m=\u001b[39m \u001b[38;5;241m0.5\u001b[39m,  n_clusters\u001b[38;5;241m=\u001b[39m\u001b[38;5;28;01mNone\u001b[39;00m, metric\u001b[38;5;241m=\u001b[39m\u001b[38;5;124m\"\u001b[39m\u001b[38;5;124mprecomputed\u001b[39m\u001b[38;5;124m\"\u001b[39m, linkage\u001b[38;5;241m=\u001b[39m\u001b[38;5;124m\"\u001b[39m\u001b[38;5;124msingle\u001b[39m\u001b[38;5;124m\"\u001b[39m)\u001b[38;5;241m.\u001b[39mfit(\u001b[43mdist_mat\u001b[49m)\n\u001b[0;32m     67\u001b[0m \u001b[38;5;66;03m# plot the top three levels of the dendrogram\u001b[39;00m\n\u001b[0;32m     68\u001b[0m plot_dendrogram(cl, truncate_mode \u001b[38;5;241m=\u001b[39m \u001b[38;5;124m\"\u001b[39m\u001b[38;5;124mlevel\u001b[39m\u001b[38;5;124m\"\u001b[39m, p\u001b[38;5;241m=\u001b[39m\u001b[38;5;241m3\u001b[39m)\n",
      "\u001b[1;31mNameError\u001b[0m: name 'dist_mat' is not defined"
     ]
    }
   ],
   "source": [
    "import sys\n",
    "import os\n",
    "sys.path.insert(0, os.path.abspath('../Main/lib'))\n",
    "\n",
    "from numba import jit\n",
    "import numpy as np\n",
    "from sklearn.cluster import AgglomerativeClustering\n",
    "from scipy.io import loadmat\n",
    "from scipy.cluster.hierarchy import dendrogram\n",
    "import matplotlib.pyplot as plt\n",
    "from colony import *\n",
    "\n",
    "\n",
    "\n",
    "def plot_dendrogram(model, plot_save_path):\n",
    "    # Create linkage matrix and then plot the dendrogram\n",
    "\n",
    "    # create the counts of samples under each node\n",
    "    counts = np.zeros(model.children_.shape[0])\n",
    "    n_samples = len(model.labels_)\n",
    "    for i, merge in enumerate(model.children_):\n",
    "        current_count = 0\n",
    "\n",
    "        for child_idx in merge:\n",
    "\n",
    "            if child_idx < n_samples:\n",
    "                current_count += 1  # leaf node\n",
    "            else:\n",
    "                current_count += counts[child_idx - n_samples]\n",
    "        counts[i] = current_count\n",
    "\n",
    "    linkage_matrix = np.column_stack(\n",
    "        [model.children_, model.distances_, counts]\n",
    "    ).astype(float)\n",
    "\n",
    "    # Plot the corresponding dendrogram\n",
    "    plt.title(\"Hierarchical Clustering Dendrogram\")\n",
    "    dendrogram(linkage_matrix)\n",
    "    plt.xlabel(\"Number of points in node (or index of point if no parenthesis).\")\n",
    "    plt.savefig(plot_save_path)\n",
    "\n",
    "\n",
    "\n",
    "matrix = loadmat(\"C:\\\\Users\\\\filoa\\\\Desktop\\\\Programming_trials\\\\Assembler\\\\Main\\\\Data\\\\graph_metadata.mat\")[\"data\"]\n",
    "\n",
    "# print(dist_mat)\n",
    "\n",
    "cl = AgglomerativeClustering(compute_distances=True, distance_threshold = 0.5,  n_clusters=None, metric=\"precomputed\", linkage=\"single\").fit(dist_mat)\n",
    "\n",
    "# plot the top three levels of the dendrogram\n",
    "plot_dendrogram(cl, truncate_mode = \"level\", p=3)\n",
    "\n"
   ]
  }
 ],
 "metadata": {
  "kernelspec": {
   "display_name": "Python 3",
   "language": "python",
   "name": "python3"
  },
  "language_info": {
   "codemirror_mode": {
    "name": "ipython",
    "version": 3
   },
   "file_extension": ".py",
   "mimetype": "text/x-python",
   "name": "python",
   "nbconvert_exporter": "python",
   "pygments_lexer": "ipython3",
   "version": "3.11.8"
  }
 },
 "nbformat": 4,
 "nbformat_minor": 2
}
